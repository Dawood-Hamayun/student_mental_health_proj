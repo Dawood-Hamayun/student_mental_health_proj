{
 "cells": [
  {
   "cell_type": "code",
   "execution_count": 1,
   "id": "0fb350c0",
   "metadata": {},
   "outputs": [],
   "source": [
    "import pandas as pd \n",
    "import matplotlib.pyplot as plt\n",
    "import seaborn as sns"
   ]
  },
  {
   "cell_type": "code",
   "execution_count": 21,
   "id": "c5ad1cce",
   "metadata": {},
   "outputs": [],
   "source": [
    "df = pd.read_csv(\"student_mental_health_cleaned.csv\")"
   ]
  },
  {
   "cell_type": "code",
   "execution_count": 22,
   "id": "b21502ad",
   "metadata": {
    "scrolled": true
   },
   "outputs": [
    {
     "data": {
      "text/html": [
       "<div>\n",
       "<style scoped>\n",
       "    .dataframe tbody tr th:only-of-type {\n",
       "        vertical-align: middle;\n",
       "    }\n",
       "\n",
       "    .dataframe tbody tr th {\n",
       "        vertical-align: top;\n",
       "    }\n",
       "\n",
       "    .dataframe thead th {\n",
       "        text-align: right;\n",
       "    }\n",
       "</style>\n",
       "<table border=\"1\" class=\"dataframe\">\n",
       "  <thead>\n",
       "    <tr style=\"text-align: right;\">\n",
       "      <th></th>\n",
       "      <th>Timestamp</th>\n",
       "      <th>Gender</th>\n",
       "      <th>Age</th>\n",
       "      <th>Course</th>\n",
       "      <th>Year</th>\n",
       "      <th>CGPA</th>\n",
       "      <th>Marital status</th>\n",
       "      <th>Depression</th>\n",
       "      <th>Anxiety</th>\n",
       "      <th>Panic Attack</th>\n",
       "      <th>...</th>\n",
       "      <th>Month</th>\n",
       "      <th>Day of Week</th>\n",
       "      <th>Science</th>\n",
       "      <th>Arts</th>\n",
       "      <th>CGPA Rank</th>\n",
       "      <th>A+</th>\n",
       "      <th>A</th>\n",
       "      <th>B</th>\n",
       "      <th>C</th>\n",
       "      <th>D</th>\n",
       "    </tr>\n",
       "  </thead>\n",
       "  <tbody>\n",
       "    <tr>\n",
       "      <th>0</th>\n",
       "      <td>2020-08-07 12:02:00</td>\n",
       "      <td>0</td>\n",
       "      <td>18.0</td>\n",
       "      <td>Science</td>\n",
       "      <td>1</td>\n",
       "      <td>3.00 - 3.49</td>\n",
       "      <td>0</td>\n",
       "      <td>1</td>\n",
       "      <td>0</td>\n",
       "      <td>1</td>\n",
       "      <td>...</td>\n",
       "      <td>8</td>\n",
       "      <td>Fri</td>\n",
       "      <td>1</td>\n",
       "      <td>0</td>\n",
       "      <td>3.49</td>\n",
       "      <td>0</td>\n",
       "      <td>1</td>\n",
       "      <td>0</td>\n",
       "      <td>0</td>\n",
       "      <td>0</td>\n",
       "    </tr>\n",
       "    <tr>\n",
       "      <th>1</th>\n",
       "      <td>2020-08-07 12:04:00</td>\n",
       "      <td>1</td>\n",
       "      <td>21.0</td>\n",
       "      <td>Arts</td>\n",
       "      <td>2</td>\n",
       "      <td>3.00 - 3.49</td>\n",
       "      <td>0</td>\n",
       "      <td>0</td>\n",
       "      <td>1</td>\n",
       "      <td>0</td>\n",
       "      <td>...</td>\n",
       "      <td>8</td>\n",
       "      <td>Fri</td>\n",
       "      <td>0</td>\n",
       "      <td>1</td>\n",
       "      <td>3.49</td>\n",
       "      <td>0</td>\n",
       "      <td>1</td>\n",
       "      <td>0</td>\n",
       "      <td>0</td>\n",
       "      <td>0</td>\n",
       "    </tr>\n",
       "    <tr>\n",
       "      <th>2</th>\n",
       "      <td>2020-08-07 12:05:00</td>\n",
       "      <td>1</td>\n",
       "      <td>19.0</td>\n",
       "      <td>Science</td>\n",
       "      <td>1</td>\n",
       "      <td>3.00 - 3.49</td>\n",
       "      <td>0</td>\n",
       "      <td>1</td>\n",
       "      <td>1</td>\n",
       "      <td>1</td>\n",
       "      <td>...</td>\n",
       "      <td>8</td>\n",
       "      <td>Fri</td>\n",
       "      <td>1</td>\n",
       "      <td>0</td>\n",
       "      <td>3.49</td>\n",
       "      <td>0</td>\n",
       "      <td>1</td>\n",
       "      <td>0</td>\n",
       "      <td>0</td>\n",
       "      <td>0</td>\n",
       "    </tr>\n",
       "    <tr>\n",
       "      <th>3</th>\n",
       "      <td>2020-08-07 12:06:00</td>\n",
       "      <td>0</td>\n",
       "      <td>22.0</td>\n",
       "      <td>Arts</td>\n",
       "      <td>3</td>\n",
       "      <td>3.00 - 3.49</td>\n",
       "      <td>1</td>\n",
       "      <td>1</td>\n",
       "      <td>0</td>\n",
       "      <td>0</td>\n",
       "      <td>...</td>\n",
       "      <td>8</td>\n",
       "      <td>Fri</td>\n",
       "      <td>0</td>\n",
       "      <td>1</td>\n",
       "      <td>3.49</td>\n",
       "      <td>0</td>\n",
       "      <td>1</td>\n",
       "      <td>0</td>\n",
       "      <td>0</td>\n",
       "      <td>0</td>\n",
       "    </tr>\n",
       "    <tr>\n",
       "      <th>4</th>\n",
       "      <td>2020-08-07 12:13:00</td>\n",
       "      <td>1</td>\n",
       "      <td>23.0</td>\n",
       "      <td>Science</td>\n",
       "      <td>4</td>\n",
       "      <td>3.00 - 3.49</td>\n",
       "      <td>0</td>\n",
       "      <td>0</td>\n",
       "      <td>0</td>\n",
       "      <td>0</td>\n",
       "      <td>...</td>\n",
       "      <td>8</td>\n",
       "      <td>Fri</td>\n",
       "      <td>1</td>\n",
       "      <td>0</td>\n",
       "      <td>3.49</td>\n",
       "      <td>0</td>\n",
       "      <td>1</td>\n",
       "      <td>0</td>\n",
       "      <td>0</td>\n",
       "      <td>0</td>\n",
       "    </tr>\n",
       "  </tbody>\n",
       "</table>\n",
       "<p>5 rows × 22 columns</p>\n",
       "</div>"
      ],
      "text/plain": [
       "             Timestamp  Gender   Age   Course  Year         CGPA  \\\n",
       "0  2020-08-07 12:02:00       0  18.0  Science     1  3.00 - 3.49   \n",
       "1  2020-08-07 12:04:00       1  21.0     Arts     2  3.00 - 3.49   \n",
       "2  2020-08-07 12:05:00       1  19.0  Science     1  3.00 - 3.49   \n",
       "3  2020-08-07 12:06:00       0  22.0     Arts     3  3.00 - 3.49   \n",
       "4  2020-08-07 12:13:00       1  23.0  Science     4  3.00 - 3.49   \n",
       "\n",
       "   Marital status  Depression  Anxiety  Panic Attack  ...  Month  Day of Week  \\\n",
       "0               0           1        0             1  ...      8          Fri   \n",
       "1               0           0        1             0  ...      8          Fri   \n",
       "2               0           1        1             1  ...      8          Fri   \n",
       "3               1           1        0             0  ...      8          Fri   \n",
       "4               0           0        0             0  ...      8          Fri   \n",
       "\n",
       "   Science Arts  CGPA Rank  A+  A  B  C  D  \n",
       "0        1    0       3.49   0  1  0  0  0  \n",
       "1        0    1       3.49   0  1  0  0  0  \n",
       "2        1    0       3.49   0  1  0  0  0  \n",
       "3        0    1       3.49   0  1  0  0  0  \n",
       "4        1    0       3.49   0  1  0  0  0  \n",
       "\n",
       "[5 rows x 22 columns]"
      ]
     },
     "execution_count": 22,
     "metadata": {},
     "output_type": "execute_result"
    }
   ],
   "source": [
    "df.head()"
   ]
  },
  {
   "cell_type": "code",
   "execution_count": 217,
   "id": "c142ec6c",
   "metadata": {},
   "outputs": [
    {
     "data": {
      "text/plain": [
       "Index(['Timestamp', 'Gender', 'Age', 'Course', 'Year', 'CGPA',\n",
       "       'Marital status', 'Depression', 'Anxiety', 'Panic Attack',\n",
       "       'Seeked Help', 'Hour', 'Month', 'Day of Week', 'Science', 'Arts',\n",
       "       'CGPA Rank', 'A+', 'A', 'B', 'C', 'D', 'Mental State', 'cat_mental'],\n",
       "      dtype='object')"
      ]
     },
     "execution_count": 217,
     "metadata": {},
     "output_type": "execute_result"
    }
   ],
   "source": [
    "df.columns"
   ]
  },
  {
   "cell_type": "code",
   "execution_count": 24,
   "id": "62868302",
   "metadata": {},
   "outputs": [
    {
     "name": "stdout",
     "output_type": "stream",
     "text": [
      "<class 'pandas.core.frame.DataFrame'>\n",
      "RangeIndex: 101 entries, 0 to 100\n",
      "Data columns (total 22 columns):\n",
      " #   Column          Non-Null Count  Dtype  \n",
      "---  ------          --------------  -----  \n",
      " 0   Timestamp       101 non-null    object \n",
      " 1   Gender          101 non-null    int64  \n",
      " 2   Age             101 non-null    float64\n",
      " 3   Course          101 non-null    object \n",
      " 4   Year            101 non-null    int64  \n",
      " 5   CGPA            101 non-null    object \n",
      " 6   Marital status  101 non-null    int64  \n",
      " 7   Depression      101 non-null    int64  \n",
      " 8   Anxiety         101 non-null    int64  \n",
      " 9   Panic Attack    101 non-null    int64  \n",
      " 10  Seeked Help     101 non-null    int64  \n",
      " 11  Hour            101 non-null    int64  \n",
      " 12  Month           101 non-null    int64  \n",
      " 13  Day of Week     101 non-null    object \n",
      " 14  Science         101 non-null    int64  \n",
      " 15  Arts            101 non-null    int64  \n",
      " 16  CGPA Rank       101 non-null    float64\n",
      " 17  A+              101 non-null    int64  \n",
      " 18  A               101 non-null    int64  \n",
      " 19  B               101 non-null    int64  \n",
      " 20  C               101 non-null    int64  \n",
      " 21  D               101 non-null    int64  \n",
      "dtypes: float64(2), int64(16), object(4)\n",
      "memory usage: 17.5+ KB\n"
     ]
    }
   ],
   "source": [
    "df.info()"
   ]
  },
  {
   "cell_type": "code",
   "execution_count": 25,
   "id": "c0bb1892",
   "metadata": {},
   "outputs": [
    {
     "data": {
      "text/html": [
       "<div>\n",
       "<style scoped>\n",
       "    .dataframe tbody tr th:only-of-type {\n",
       "        vertical-align: middle;\n",
       "    }\n",
       "\n",
       "    .dataframe tbody tr th {\n",
       "        vertical-align: top;\n",
       "    }\n",
       "\n",
       "    .dataframe thead th {\n",
       "        text-align: right;\n",
       "    }\n",
       "</style>\n",
       "<table border=\"1\" class=\"dataframe\">\n",
       "  <thead>\n",
       "    <tr style=\"text-align: right;\">\n",
       "      <th></th>\n",
       "      <th>Gender</th>\n",
       "      <th>Age</th>\n",
       "      <th>Year</th>\n",
       "      <th>Marital status</th>\n",
       "      <th>Depression</th>\n",
       "      <th>Anxiety</th>\n",
       "      <th>Panic Attack</th>\n",
       "      <th>Seeked Help</th>\n",
       "      <th>Hour</th>\n",
       "      <th>Month</th>\n",
       "      <th>Science</th>\n",
       "      <th>Arts</th>\n",
       "      <th>CGPA Rank</th>\n",
       "      <th>A+</th>\n",
       "      <th>A</th>\n",
       "      <th>B</th>\n",
       "      <th>C</th>\n",
       "      <th>D</th>\n",
       "    </tr>\n",
       "  </thead>\n",
       "  <tbody>\n",
       "    <tr>\n",
       "      <th>count</th>\n",
       "      <td>101.000000</td>\n",
       "      <td>101.000000</td>\n",
       "      <td>101.000000</td>\n",
       "      <td>101.000000</td>\n",
       "      <td>101.000000</td>\n",
       "      <td>101.000000</td>\n",
       "      <td>101.000000</td>\n",
       "      <td>101.000000</td>\n",
       "      <td>101.000000</td>\n",
       "      <td>101.000000</td>\n",
       "      <td>101.000000</td>\n",
       "      <td>101.000000</td>\n",
       "      <td>101.000000</td>\n",
       "      <td>101.000000</td>\n",
       "      <td>101.000000</td>\n",
       "      <td>101.000000</td>\n",
       "      <td>101.000000</td>\n",
       "      <td>101.000000</td>\n",
       "    </tr>\n",
       "    <tr>\n",
       "      <th>mean</th>\n",
       "      <td>0.257426</td>\n",
       "      <td>20.534653</td>\n",
       "      <td>1.970297</td>\n",
       "      <td>0.158416</td>\n",
       "      <td>0.346535</td>\n",
       "      <td>0.336634</td>\n",
       "      <td>0.326733</td>\n",
       "      <td>0.059406</td>\n",
       "      <td>14.138614</td>\n",
       "      <td>7.821782</td>\n",
       "      <td>0.603960</td>\n",
       "      <td>0.396040</td>\n",
       "      <td>3.633366</td>\n",
       "      <td>0.475248</td>\n",
       "      <td>0.425743</td>\n",
       "      <td>0.039604</td>\n",
       "      <td>0.019802</td>\n",
       "      <td>0.039604</td>\n",
       "    </tr>\n",
       "    <tr>\n",
       "      <th>std</th>\n",
       "      <td>0.439397</td>\n",
       "      <td>2.484208</td>\n",
       "      <td>0.994540</td>\n",
       "      <td>0.366952</td>\n",
       "      <td>0.478239</td>\n",
       "      <td>0.474915</td>\n",
       "      <td>0.471358</td>\n",
       "      <td>0.237562</td>\n",
       "      <td>3.003430</td>\n",
       "      <td>0.497916</td>\n",
       "      <td>0.491512</td>\n",
       "      <td>0.491512</td>\n",
       "      <td>0.473380</td>\n",
       "      <td>0.501878</td>\n",
       "      <td>0.496921</td>\n",
       "      <td>0.196000</td>\n",
       "      <td>0.140014</td>\n",
       "      <td>0.196000</td>\n",
       "    </tr>\n",
       "    <tr>\n",
       "      <th>min</th>\n",
       "      <td>0.000000</td>\n",
       "      <td>18.000000</td>\n",
       "      <td>1.000000</td>\n",
       "      <td>0.000000</td>\n",
       "      <td>0.000000</td>\n",
       "      <td>0.000000</td>\n",
       "      <td>0.000000</td>\n",
       "      <td>0.000000</td>\n",
       "      <td>6.000000</td>\n",
       "      <td>7.000000</td>\n",
       "      <td>0.000000</td>\n",
       "      <td>0.000000</td>\n",
       "      <td>1.990000</td>\n",
       "      <td>0.000000</td>\n",
       "      <td>0.000000</td>\n",
       "      <td>0.000000</td>\n",
       "      <td>0.000000</td>\n",
       "      <td>0.000000</td>\n",
       "    </tr>\n",
       "    <tr>\n",
       "      <th>25%</th>\n",
       "      <td>0.000000</td>\n",
       "      <td>18.000000</td>\n",
       "      <td>1.000000</td>\n",
       "      <td>0.000000</td>\n",
       "      <td>0.000000</td>\n",
       "      <td>0.000000</td>\n",
       "      <td>0.000000</td>\n",
       "      <td>0.000000</td>\n",
       "      <td>12.000000</td>\n",
       "      <td>8.000000</td>\n",
       "      <td>0.000000</td>\n",
       "      <td>0.000000</td>\n",
       "      <td>3.490000</td>\n",
       "      <td>0.000000</td>\n",
       "      <td>0.000000</td>\n",
       "      <td>0.000000</td>\n",
       "      <td>0.000000</td>\n",
       "      <td>0.000000</td>\n",
       "    </tr>\n",
       "    <tr>\n",
       "      <th>50%</th>\n",
       "      <td>0.000000</td>\n",
       "      <td>19.000000</td>\n",
       "      <td>2.000000</td>\n",
       "      <td>0.000000</td>\n",
       "      <td>0.000000</td>\n",
       "      <td>0.000000</td>\n",
       "      <td>0.000000</td>\n",
       "      <td>0.000000</td>\n",
       "      <td>14.000000</td>\n",
       "      <td>8.000000</td>\n",
       "      <td>1.000000</td>\n",
       "      <td>0.000000</td>\n",
       "      <td>3.490000</td>\n",
       "      <td>0.000000</td>\n",
       "      <td>0.000000</td>\n",
       "      <td>0.000000</td>\n",
       "      <td>0.000000</td>\n",
       "      <td>0.000000</td>\n",
       "    </tr>\n",
       "    <tr>\n",
       "      <th>75%</th>\n",
       "      <td>1.000000</td>\n",
       "      <td>23.000000</td>\n",
       "      <td>3.000000</td>\n",
       "      <td>0.000000</td>\n",
       "      <td>1.000000</td>\n",
       "      <td>1.000000</td>\n",
       "      <td>1.000000</td>\n",
       "      <td>0.000000</td>\n",
       "      <td>16.000000</td>\n",
       "      <td>8.000000</td>\n",
       "      <td>1.000000</td>\n",
       "      <td>1.000000</td>\n",
       "      <td>4.000000</td>\n",
       "      <td>1.000000</td>\n",
       "      <td>1.000000</td>\n",
       "      <td>0.000000</td>\n",
       "      <td>0.000000</td>\n",
       "      <td>0.000000</td>\n",
       "    </tr>\n",
       "    <tr>\n",
       "      <th>max</th>\n",
       "      <td>1.000000</td>\n",
       "      <td>24.000000</td>\n",
       "      <td>4.000000</td>\n",
       "      <td>1.000000</td>\n",
       "      <td>1.000000</td>\n",
       "      <td>1.000000</td>\n",
       "      <td>1.000000</td>\n",
       "      <td>1.000000</td>\n",
       "      <td>22.000000</td>\n",
       "      <td>9.000000</td>\n",
       "      <td>1.000000</td>\n",
       "      <td>1.000000</td>\n",
       "      <td>4.000000</td>\n",
       "      <td>1.000000</td>\n",
       "      <td>1.000000</td>\n",
       "      <td>1.000000</td>\n",
       "      <td>1.000000</td>\n",
       "      <td>1.000000</td>\n",
       "    </tr>\n",
       "  </tbody>\n",
       "</table>\n",
       "</div>"
      ],
      "text/plain": [
       "           Gender         Age        Year  Marital status  Depression  \\\n",
       "count  101.000000  101.000000  101.000000      101.000000  101.000000   \n",
       "mean     0.257426   20.534653    1.970297        0.158416    0.346535   \n",
       "std      0.439397    2.484208    0.994540        0.366952    0.478239   \n",
       "min      0.000000   18.000000    1.000000        0.000000    0.000000   \n",
       "25%      0.000000   18.000000    1.000000        0.000000    0.000000   \n",
       "50%      0.000000   19.000000    2.000000        0.000000    0.000000   \n",
       "75%      1.000000   23.000000    3.000000        0.000000    1.000000   \n",
       "max      1.000000   24.000000    4.000000        1.000000    1.000000   \n",
       "\n",
       "          Anxiety  Panic Attack  Seeked Help        Hour       Month  \\\n",
       "count  101.000000    101.000000   101.000000  101.000000  101.000000   \n",
       "mean     0.336634      0.326733     0.059406   14.138614    7.821782   \n",
       "std      0.474915      0.471358     0.237562    3.003430    0.497916   \n",
       "min      0.000000      0.000000     0.000000    6.000000    7.000000   \n",
       "25%      0.000000      0.000000     0.000000   12.000000    8.000000   \n",
       "50%      0.000000      0.000000     0.000000   14.000000    8.000000   \n",
       "75%      1.000000      1.000000     0.000000   16.000000    8.000000   \n",
       "max      1.000000      1.000000     1.000000   22.000000    9.000000   \n",
       "\n",
       "          Science        Arts   CGPA Rank          A+           A           B  \\\n",
       "count  101.000000  101.000000  101.000000  101.000000  101.000000  101.000000   \n",
       "mean     0.603960    0.396040    3.633366    0.475248    0.425743    0.039604   \n",
       "std      0.491512    0.491512    0.473380    0.501878    0.496921    0.196000   \n",
       "min      0.000000    0.000000    1.990000    0.000000    0.000000    0.000000   \n",
       "25%      0.000000    0.000000    3.490000    0.000000    0.000000    0.000000   \n",
       "50%      1.000000    0.000000    3.490000    0.000000    0.000000    0.000000   \n",
       "75%      1.000000    1.000000    4.000000    1.000000    1.000000    0.000000   \n",
       "max      1.000000    1.000000    4.000000    1.000000    1.000000    1.000000   \n",
       "\n",
       "                C           D  \n",
       "count  101.000000  101.000000  \n",
       "mean     0.019802    0.039604  \n",
       "std      0.140014    0.196000  \n",
       "min      0.000000    0.000000  \n",
       "25%      0.000000    0.000000  \n",
       "50%      0.000000    0.000000  \n",
       "75%      0.000000    0.000000  \n",
       "max      1.000000    1.000000  "
      ]
     },
     "execution_count": 25,
     "metadata": {},
     "output_type": "execute_result"
    }
   ],
   "source": [
    "df.describe()"
   ]
  },
  {
   "cell_type": "code",
   "execution_count": 202,
   "id": "07cf85ed",
   "metadata": {},
   "outputs": [],
   "source": [
    "def get_values(row):  \n",
    "    if row['Depression'] == 1:\n",
    "        return 1\n",
    "    elif row['Anxiety'] == 1:\n",
    "        return 1\n",
    "    elif row['Panic Attack'] == 1:\n",
    "        return 1\n",
    "    return 0"
   ]
  },
  {
   "cell_type": "code",
   "execution_count": 203,
   "id": "d304b956",
   "metadata": {},
   "outputs": [],
   "source": [
    "df['Mental State'] = df.apply(lambda row: get_values(row), axis=1)"
   ]
  },
  {
   "cell_type": "code",
   "execution_count": 216,
   "id": "13c6a980",
   "metadata": {},
   "outputs": [],
   "source": [
    "def get_cat(row):  \n",
    "    if row['Depression'] == 1:\n",
    "        return 'Depressed'\n",
    "    elif row['Anxiety'] == 1:\n",
    "        return 'Anxiety'\n",
    "    elif row['Panic Attack'] == 1:\n",
    "        return 'Panic Attacks'\n",
    "    return 'No Issues'\n",
    "df['cat_mental'] = df.apply(lambda row: get_cat(row), axis=1)"
   ]
  },
  {
   "cell_type": "code",
   "execution_count": 209,
   "id": "22478859",
   "metadata": {},
   "outputs": [
    {
     "data": {
      "text/plain": [
       "<AxesSubplot:xlabel='Mental State', ylabel='count'>"
      ]
     },
     "execution_count": 209,
     "metadata": {},
     "output_type": "execute_result"
    },
    {
     "data": {
      "image/png": "[encoded data removed]",
      "text/plain": [
       "<Figure size 432x288 with 1 Axes>"
      ]
     },
     "metadata": {
      "needs_background": "light"
     },
     "output_type": "display_data"
    }
   ],
   "source": [
    "sns.countplot(x='Mental State', hue = 'Gender', data = df)"
   ]
  },
  {
   "cell_type": "code",
   "execution_count": 218,
   "id": "4d8ab148",
   "metadata": {
    "scrolled": false
   },
   "outputs": [
    {
     "data": {
      "text/plain": [
       "[Text(0.5, 1.0, '0 = Female, 1 = Male')]"
      ]
     },
     "execution_count": 218,
     "metadata": {},
     "output_type": "execute_result"
    },
    {
     "data": {
      "image/png": "[encoded data removed]",
      "text/plain": [
       "<Figure size 432x288 with 1 Axes>"
      ]
     },
     "metadata": {
      "needs_background": "light"
     },
     "output_type": "display_data"
    }
   ],
   "source": [
    "sns.countplot(x='Gender', hue = 'cat_mental', data = df).set(title = '0 = Female, 1 = Male')"
   ]
  },
  {
   "cell_type": "code",
   "execution_count": 215,
   "id": "6ef13dd0",
   "metadata": {},
   "outputs": [
    {
     "data": {
      "text/plain": [
       "<AxesSubplot:xlabel='CGPA Rank', ylabel='count'>"
      ]
     },
     "execution_count": 215,
     "metadata": {},
     "output_type": "execute_result"
    },
    {
     "data": {
      "image/png": "[encoded data removed]",
      "text/plain": [
       "<Figure size 432x288 with 1 Axes>"
      ]
     },
     "metadata": {
      "needs_background": "light"
     },
     "output_type": "display_data"
    }
   ],
   "source": [
    "sns.countplot(x='CGPA Rank', hue ='Mental State', data = df)"
   ]
  },
  {
   "cell_type": "code",
   "execution_count": 154,
   "id": "3d9b46fd",
   "metadata": {},
   "outputs": [
    {
     "data": {
      "text/plain": [
       "<AxesSubplot:xlabel='Age', ylabel='count'>"
      ]
     },
     "execution_count": 154,
     "metadata": {},
     "output_type": "execute_result"
    },
    {
     "data": {
      "image/png": "[encoded data removed]",
      "text/plain": [
       "<Figure size 432x288 with 1 Axes>"
      ]
     },
     "metadata": {
      "needs_background": "light"
     },
     "output_type": "display_data"
    }
   ],
   "source": [
    "sns.countplot(x='Age', data = df)"
   ]
  },
  {
   "cell_type": "code",
   "execution_count": 155,
   "id": "6511821b",
   "metadata": {
    "scrolled": true
   },
   "outputs": [
    {
     "data": {
      "text/plain": [
       "<AxesSubplot:xlabel='Course', ylabel='count'>"
      ]
     },
     "execution_count": 155,
     "metadata": {},
     "output_type": "execute_result"
    },
    {
     "data": {
      "image/png": "[encoded data removed]",
      "text/plain": [
       "<Figure size 432x288 with 1 Axes>"
      ]
     },
     "metadata": {
      "needs_background": "light"
     },
     "output_type": "display_data"
    }
   ],
   "source": [
    "sns.countplot(x='Course', data = df)"
   ]
  },
  {
   "cell_type": "code",
   "execution_count": 219,
   "id": "7d642f68",
   "metadata": {
    "scrolled": true
   },
   "outputs": [
    {
     "data": {
      "text/plain": [
       "[Text(0.5, 1.0, '0 = Not Married, 1 = Married')]"
      ]
     },
     "execution_count": 219,
     "metadata": {},
     "output_type": "execute_result"
    },
    {
     "data": {
      "image/png": "[encoded data removed]",
      "text/plain": [
       "<Figure size 432x288 with 1 Axes>"
      ]
     },
     "metadata": {
      "needs_background": "light"
     },
     "output_type": "display_data"
    }
   ],
   "source": [
    "sns.countplot(x='Marital status', hue = 'cat_mental',data = df).set(title = '0 = Not Married, 1 = Married')"
   ]
  },
  {
   "cell_type": "code",
   "execution_count": 239,
   "id": "a1efe961",
   "metadata": {
    "scrolled": true
   },
   "outputs": [
    {
     "data": {
      "text/plain": [
       "<AxesSubplot:xlabel='Mental State', ylabel='count'>"
      ]
     },
     "execution_count": 239,
     "metadata": {},
     "output_type": "execute_result"
    },
    {
     "data": {
      "image/png": "[encoded data removed]",
      "text/plain": [
       "<Figure size 432x288 with 1 Axes>"
      ]
     },
     "metadata": {
      "needs_background": "light"
     },
     "output_type": "display_data"
    }
   ],
   "source": [
    "sns.countplot(x='Mental State', hue = 'Year', data = df)"
   ]
  },
  {
   "cell_type": "code",
   "execution_count": 56,
   "id": "441b129f",
   "metadata": {
    "scrolled": false
   },
   "outputs": [
    {
     "data": {
      "text/plain": [
       "<AxesSubplot:>"
      ]
     },
     "execution_count": 56,
     "metadata": {},
     "output_type": "execute_result"
    },
    {
     "data": {
      "image/png": "[encoded data removed]",
      "text/plain": [
       "<Figure size 864x648 with 2 Axes>"
      ]
     },
     "metadata": {
      "needs_background": "light"
     },
     "output_type": "display_data"
    }
   ],
   "source": [
    "f, ax = plt.subplots(figsize=(12, 9))\n",
    "cmap = sns.diverging_palette(220, 10, as_cmap=True)\n",
    "sns.heatmap(df[['Gender', 'Age', 'Year', 'Marital status', 'CGPA Rank', 'Depression', 'Anxiety', 'Panic Attack', 'Seeked Help']].corr(), \n",
    "            cmap=cmap, vmax=.3, center=0,\n",
    "            square=True, linewidths=.5, cbar_kws={\"shrink\": .5})"
   ]
  },
  {
   "cell_type": "code",
   "execution_count": 226,
   "id": "a3cab9e5",
   "metadata": {
    "scrolled": false
   },
   "outputs": [
    {
     "data": {
      "text/plain": [
       "<AxesSubplot:>"
      ]
     },
     "execution_count": 226,
     "metadata": {},
     "output_type": "execute_result"
    },
    {
     "data": {
      "image/png": "[encoded data removed]",
      "text/plain": [
       "<Figure size 864x648 with 2 Axes>"
      ]
     },
     "metadata": {
      "needs_background": "light"
     },
     "output_type": "display_data"
    }
   ],
   "source": [
    "f, ax = plt.subplots(figsize=(12, 9))\n",
    "cmap = sns.diverging_palette(220, 10, as_cmap=True)\n",
    "sns.heatmap(df[['Gender', 'Age', 'Year', 'Marital status', 'CGPA Rank','Mental State']].corr(), \n",
    "            cmap=cmap, vmax=.3, center=0,\n",
    "            square=True, linewidths=.5, cbar_kws={\"shrink\": .5})"
   ]
  },
  {
   "cell_type": "code",
   "execution_count": 151,
   "id": "f471461a",
   "metadata": {
    "scrolled": true
   },
   "outputs": [
    {
     "data": {
      "text/plain": [
       "<AxesSubplot:xlabel='Marital status', ylabel='Depression'>"
      ]
     },
     "execution_count": 151,
     "metadata": {},
     "output_type": "execute_result"
    },
    {
     "data": {
      "image/png": "[encoded data removed]",
      "text/plain": [
       "<Figure size 432x288 with 1 Axes>"
      ]
     },
     "metadata": {
      "needs_background": "light"
     },
     "output_type": "display_data"
    }
   ],
   "source": [
    "sns.barplot(x='Marital status', y= 'Depression', data = df)"
   ]
  },
  {
   "cell_type": "code",
   "execution_count": 148,
   "id": "120c2c03",
   "metadata": {},
   "outputs": [
    {
     "data": {
      "text/plain": [
       "<AxesSubplot:xlabel='Anxiety', ylabel='Depression'>"
      ]
     },
     "execution_count": 148,
     "metadata": {},
     "output_type": "execute_result"
    },
    {
     "data": {
      "image/png": "[encoded data removed]",
      "text/plain": [
       "<Figure size 432x288 with 1 Axes>"
      ]
     },
     "metadata": {
      "needs_background": "light"
     },
     "output_type": "display_data"
    }
   ],
   "source": [
    "sns.barplot(x='Anxiety', y= 'Depression', hue = 'Gender', data = df)"
   ]
  },
  {
   "cell_type": "code",
   "execution_count": 149,
   "id": "f9aa3b0e",
   "metadata": {},
   "outputs": [
    {
     "data": {
      "text/plain": [
       "<AxesSubplot:xlabel='Seeked Help', ylabel='Marital status'>"
      ]
     },
     "execution_count": 149,
     "metadata": {},
     "output_type": "execute_result"
    },
    {
     "data": {
      "image/png": "[encoded data removed]",
      "text/plain": [
       "<Figure size 432x288 with 1 Axes>"
      ]
     },
     "metadata": {
      "needs_background": "light"
     },
     "output_type": "display_data"
    }
   ],
   "source": [
    "sns.barplot(x='Seeked Help', y= 'Marital status', hue= 'Gender', data = df)"
   ]
  },
  {
   "cell_type": "code",
   "execution_count": 159,
   "id": "c64d2d5a",
   "metadata": {},
   "outputs": [
    {
     "data": {
      "text/plain": [
       "<AxesSubplot:xlabel='Course', ylabel='Depression'>"
      ]
     },
     "execution_count": 159,
     "metadata": {},
     "output_type": "execute_result"
    },
    {
     "data": {
      "image/png": "[encoded data removed]",
      "text/plain": [
       "<Figure size 432x288 with 1 Axes>"
      ]
     },
     "metadata": {
      "needs_background": "light"
     },
     "output_type": "display_data"
    }
   ],
   "source": [
    "sns.barplot(x='Course', y='Depression', hue = 'Gender', data = df)"
   ]
  },
  {
   "cell_type": "code",
   "execution_count": 213,
   "id": "d557c26f",
   "metadata": {},
   "outputs": [
    {
     "data": {
      "text/plain": [
       "<AxesSubplot:xlabel='Age', ylabel='Marital status'>"
      ]
     },
     "execution_count": 213,
     "metadata": {},
     "output_type": "execute_result"
    },
    {
     "data": {
      "image/png": "[encoded data removed]",
      "text/plain": [
       "<Figure size 432x288 with 1 Axes>"
      ]
     },
     "metadata": {
      "needs_background": "light"
     },
     "output_type": "display_data"
    }
   ],
   "source": [
    "sns.barplot(x='Age', y='Marital status', hue= 'Gender', data = df)"
   ]
  },
  {
   "cell_type": "code",
   "execution_count": 237,
   "id": "3210a753",
   "metadata": {},
   "outputs": [
    {
     "data": {
      "text/plain": [
       "Mental State  Gender\n",
       "0             0         27\n",
       "              1         10\n",
       "1             0         48\n",
       "              1         16\n",
       "dtype: int64"
      ]
     },
     "execution_count": 237,
     "metadata": {},
     "output_type": "execute_result"
    }
   ],
   "source": [
    "df.groupby(['Mental State', 'Gender']).size()"
   ]
  },
  {
   "cell_type": "code",
   "execution_count": 233,
   "id": "c642180c",
   "metadata": {},
   "outputs": [
    {
     "data": {
      "text/plain": [
       "0    75\n",
       "1    26\n",
       "Name: Gender, dtype: int64"
      ]
     },
     "execution_count": 233,
     "metadata": {},
     "output_type": "execute_result"
    }
   ],
   "source": [
    "df['Gender'].value_counts()"
   ]
  },
  {
   "cell_type": "code",
   "execution_count": null,
   "id": "1c4695da",
   "metadata": {},
   "outputs": [],
   "source": []
  }
 ],
 "metadata": {
  "kernelspec": {
   "display_name": "Python 3",
   "language": "python",
   "name": "python3"
  },
  "language_info": {
   "codemirror_mode": {
    "name": "ipython",
    "version": 3
   },
   "file_extension": ".py",
   "mimetype": "text/x-python",
   "name": "python",
   "nbconvert_exporter": "python",
   "pygments_lexer": "ipython3",
   "version": "3.8.8"
  }
 },
 "nbformat": 4,
 "nbformat_minor": 5
}
